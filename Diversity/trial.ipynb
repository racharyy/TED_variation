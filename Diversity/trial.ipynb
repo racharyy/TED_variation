{
 "cells": [
  {
   "cell_type": "code",
   "execution_count": 53,
   "metadata": {},
   "outputs": [],
   "source": [
    "import pickle\n",
    "import numpy as np\n",
    "import matplotlib.pyplot as plt\n",
    "import itertools as it\n",
    "import pandas as pd"
   ]
  },
  {
   "cell_type": "code",
   "execution_count": 11,
   "metadata": {},
   "outputs": [],
   "source": [
    "df = pickle.load(open('../Data/doc2vec/mydoc2vec_200.pkl','rb'))"
   ]
  },
  {
   "cell_type": "code",
   "execution_count": 3,
   "metadata": {},
   "outputs": [
    {
     "data": {
      "text/plain": [
       "dict_keys(['Video_ID', 'a', 'view', 'transcript', 'rating'])"
      ]
     },
     "execution_count": 3,
     "metadata": {},
     "output_type": "execute_result"
    }
   ],
   "source": [
    "df.keys()"
   ]
  },
  {
   "cell_type": "code",
   "execution_count": 4,
   "metadata": {},
   "outputs": [
    {
     "data": {
      "text/plain": [
       "2383"
      ]
     },
     "execution_count": 4,
     "metadata": {},
     "output_type": "execute_result"
    }
   ],
   "source": [
    "len(df['Video_ID'])"
   ]
  },
  {
   "cell_type": "code",
   "execution_count": 12,
   "metadata": {},
   "outputs": [],
   "source": [
    "div_dic = pickle.load(open('div_dic.pkl','rb'))"
   ]
  },
  {
   "cell_type": "code",
   "execution_count": 5,
   "metadata": {},
   "outputs": [
    {
     "data": {
      "text/plain": [
       "(2383, 200)"
      ]
     },
     "execution_count": 5,
     "metadata": {},
     "output_type": "execute_result"
    }
   ],
   "source": [
    "df['transcript'].shape"
   ]
  },
  {
   "cell_type": "code",
   "execution_count": 7,
   "metadata": {},
   "outputs": [
    {
     "data": {
      "text/plain": [
       "(2383,)"
      ]
     },
     "execution_count": 7,
     "metadata": {},
     "output_type": "execute_result"
    }
   ],
   "source": [
    "df['view'].shape"
   ]
  },
  {
   "cell_type": "code",
   "execution_count": 3,
   "metadata": {},
   "outputs": [],
   "source": [
    "tid_seg = pickle.load(open('../Data/tid_vs_segments_eigen_values.pkl','rb'))"
   ]
  },
  {
   "cell_type": "code",
   "execution_count": 35,
   "metadata": {},
   "outputs": [],
   "source": [
    "tid_vid_div = pickle.load(open('../Data/tid_vs_variation_visual.pkl','rb'))"
   ]
  },
  {
   "cell_type": "code",
   "execution_count": 38,
   "metadata": {},
   "outputs": [
    {
     "data": {
      "text/plain": [
       "2335"
      ]
     },
     "execution_count": 38,
     "metadata": {},
     "output_type": "execute_result"
    }
   ],
   "source": [
    "len(tid_vid_div.keys())"
   ]
  },
  {
   "cell_type": "code",
   "execution_count": 6,
   "metadata": {},
   "outputs": [
    {
     "data": {
      "text/plain": [
       "2379"
      ]
     },
     "execution_count": 6,
     "metadata": {},
     "output_type": "execute_result"
    }
   ],
   "source": [
    "len(tid_seg.keys())"
   ]
  },
  {
   "cell_type": "code",
   "execution_count": 39,
   "metadata": {},
   "outputs": [],
   "source": [
    "def pad(vid_div_dic,visual_input_dic,transcript_dic,num_eig,max_vid_len):\n",
    "\n",
    "    new_data_dic = {}\n",
    "    visual_input_dic_keys = visual_input_dic.keys()\n",
    "    vid_div_keys = vid_div_dic.keys()\n",
    "    new_data_dic['Video_ID'] = []\n",
    "    new_data_dic['input'] = []\n",
    "    new_data_dic['rating'] = []\n",
    "    new_data_dic['text_diversity'] = [] \n",
    "    new_data_dic['vid_diversity'] = []\n",
    "    for k in range(2383):\n",
    "\n",
    "        vid_id = transcript_dic['Video_ID'][k]\n",
    "        if vid_id in visual_input_dic_keys and vid_id in vid_div_keys:\n",
    "            seg_len = visual_input_dic[vid_id].shape[0]\n",
    "            if seg_len<max_vid_len:\n",
    "                lst = list(np.concatenate((visual_input_dic[vid_id][:,:num_eig].flatten(),np.zeros((max_vid_len- seg_len)*num_eig))))\n",
    "            else:\n",
    "                lst = list(visual_input_dic[vid_id][:max_vid_len,:num_eig].flatten())\n",
    "\n",
    "            new_data_dic['Video_ID'].append(vid_id)\n",
    "            new_data_dic['input'] = new_data_dic['input'] + list(transcript_dic['input'][k]) \n",
    "            new_data_dic['input'] = new_data_dic['input']+ lst\n",
    "            new_data_dic['rating'] = new_data_dic['rating'] + list(transcript_dic['rating'][k])\n",
    "            new_data_dic['text_diversity'].append(transcript_dic['text_diversity'][k])\n",
    "            new_data_dic['vid_diversity'].append(vid_div_dic[vid_id])\n",
    "    for k in new_data_dic.keys():\n",
    "        new_data_dic[k] =  np.array(new_data_dic[k])\n",
    "    new_data_dic['rating']=new_data_dic['rating'].reshape((-1,14))\n",
    "    new_data_dic['input']=new_data_dic['input'].reshape((-1,208+num_eig*max_vid_len))\n",
    "    \n",
    "    return new_data_dic"
   ]
  },
  {
   "cell_type": "code",
   "execution_count": 40,
   "metadata": {},
   "outputs": [],
   "source": [
    "new_dic = pad(tid_vid_div,tid_seg,all_data_dic,2,100)"
   ]
  },
  {
   "cell_type": "code",
   "execution_count": 41,
   "metadata": {},
   "outputs": [
    {
     "data": {
      "text/plain": [
       "(2335, 408)"
      ]
     },
     "execution_count": 41,
     "metadata": {},
     "output_type": "execute_result"
    }
   ],
   "source": [
    "pickle.dump(new_dic,open('../Data/doc2vec/joint_data_dic.pkl','wb'))\n",
    "\n",
    "new_dic['input'].shape"
   ]
  },
  {
   "cell_type": "code",
   "execution_count": 50,
   "metadata": {},
   "outputs": [
    {
     "name": "stdout",
     "output_type": "stream",
     "text": [
      "467\n"
     ]
    }
   ],
   "source": [
    "_,_,test_idx = pickle.load(open('../Output/split_index.pkl','rb'))\n",
    "print(len(test_idx))"
   ]
  },
  {
   "cell_type": "code",
   "execution_count": 46,
   "metadata": {},
   "outputs": [],
   "source": [
    "vids = new_dic['Video_ID'][test_idx]"
   ]
  },
  {
   "cell_type": "code",
   "execution_count": 47,
   "metadata": {},
   "outputs": [],
   "source": [
    "data_dict_predict,data_dict_true = pickle.load(open('../Output/test_output_transcript_plus_video_True_False_7_1_2.pkl','rb'))"
   ]
  },
  {
   "cell_type": "code",
   "execution_count": 48,
   "metadata": {},
   "outputs": [
    {
     "data": {
      "text/plain": [
       "dict_keys(['transcript', 'a', 'view', 'rating', 'un_norm_op'])"
      ]
     },
     "execution_count": 48,
     "metadata": {},
     "output_type": "execute_result"
    }
   ],
   "source": [
    "data_dict_predict.keys()"
   ]
  },
  {
   "cell_type": "code",
   "execution_count": 49,
   "metadata": {},
   "outputs": [
    {
     "data": {
      "text/plain": [
       "torch.Size([467, 14])"
      ]
     },
     "execution_count": 49,
     "metadata": {},
     "output_type": "execute_result"
    }
   ],
   "source": [
    "data_dict_predict['un_norm_op'].shape"
   ]
  },
  {
   "cell_type": "code",
   "execution_count": 51,
   "metadata": {},
   "outputs": [],
   "source": [
    "norm_rating = data_dict_predict['un_norm_op']/data_dict_predict['un_norm_op'].sum(axis=1)[:,None]"
   ]
  },
  {
   "cell_type": "code",
   "execution_count": 52,
   "metadata": {},
   "outputs": [
    {
     "name": "stdout",
     "output_type": "stream",
     "text": [
      "tensor([[0.0854, 0.0692, 0.0749,  ..., 0.0725, 0.0670, 0.0659],\n",
      "        [0.0664, 0.0784, 0.0681,  ..., 0.0731, 0.0706, 0.0710],\n",
      "        [0.0724, 0.0695, 0.0702,  ..., 0.0722, 0.0742, 0.0685],\n",
      "        ...,\n",
      "        [0.0603, 0.0736, 0.0693,  ..., 0.0737, 0.0791, 0.0714],\n",
      "        [0.0711, 0.0784, 0.0734,  ..., 0.0743, 0.0515, 0.0633],\n",
      "        [0.0672, 0.0751, 0.0653,  ..., 0.0774, 0.0707, 0.0751]])\n"
     ]
    }
   ],
   "source": [
    "print(norm_rating)"
   ]
  },
  {
   "cell_type": "code",
   "execution_count": null,
   "metadata": {},
   "outputs": [],
   "source": [
    "imp_index = [0]"
   ]
  },
  {
   "cell_type": "code",
   "execution_count": null,
   "metadata": {},
   "outputs": [],
   "source": []
  },
  {
   "cell_type": "code",
   "execution_count": null,
   "metadata": {},
   "outputs": [],
   "source": [
    "\"Ratings\": ['beautiful', 'confusing', 'courageous', 'fascinating', 'funny', 'informative', 'ingenious', 'inspiring', 'jaw-dropping', 'longwinded', 'obnoxious', 'ok', 'persuasive', 'unconvincing'],\n",
    "\"T+V\": [0.74,0.60,0.72,0.72,0.76,0.73,0.70,0.69,0.66,0.62,0.63,0.68,0.70,0.66],\n",
    "\"T+V+both\":[0.71,0.64,0.70,0.69,0.72,0.66,0.66,0.66,0.57,0.64,0.63,0.66,0.71,0.62],\n"
   ]
  },
  {
   "cell_type": "code",
   "execution_count": null,
   "metadata": {},
   "outputs": [],
   "source": []
  },
  {
   "cell_type": "code",
   "execution_count": null,
   "metadata": {},
   "outputs": [],
   "source": []
  },
  {
   "cell_type": "code",
   "execution_count": null,
   "metadata": {},
   "outputs": [],
   "source": []
  },
  {
   "cell_type": "code",
   "execution_count": null,
   "metadata": {},
   "outputs": [],
   "source": []
  },
  {
   "cell_type": "code",
   "execution_count": null,
   "metadata": {},
   "outputs": [],
   "source": []
  },
  {
   "cell_type": "code",
   "execution_count": null,
   "metadata": {},
   "outputs": [],
   "source": []
  },
  {
   "cell_type": "code",
   "execution_count": null,
   "metadata": {},
   "outputs": [],
   "source": []
  },
  {
   "cell_type": "code",
   "execution_count": 69,
   "metadata": {},
   "outputs": [],
   "source": [
    "rating_names = np.array(['beautiful', 'confusing', 'courageous', 'fascinating', 'funny', 'informative', 'ingenious', 'inspiring', 'jaw-dropping', 'longwinded', 'obnoxious', 'ok', 'persuasive', 'unconvincing'])\n",
    "tv = np.array([0.74,0.60,0.72,0.72,0.76,0.73,0.70,0.69,0.66,0.62,0.63,0.68,0.70,0.66])\n",
    "tvl = np.array([0.71,0.64,0.70,0.69,0.72,0.66,0.66,0.66,0.57,0.64,0.63,0.66,0.71,0.62])\n",
    "spd_pred = [0.19, 0.24, 0.22, 0.17, 0.18, 0.03, 0.15, 0.08]\n",
    "spd_both = [0.08, 0.17, 0.17, 0.06, 0.08, 0.01, 0.03, 0.05]"
   ]
  },
  {
   "cell_type": "code",
   "execution_count": 68,
   "metadata": {},
   "outputs": [],
   "source": [
    "imp_index = [0,3,5,8,9,10,11,13]"
   ]
  },
  {
   "cell_type": "code",
   "execution_count": 70,
   "metadata": {},
   "outputs": [],
   "source": [
    "df = pd.DataFrame({\n",
    "\"Ratings\": rating_names[imp_index],\n",
    "\"T+V(ACC)\":tv[imp_index] ,\n",
    "\"T+V+HEM(ACC)\": tvl[imp_index],\n",
    "\"T+V(SPD)\": spd_pred,\n",
    "\"T+V+HEM(SPD)\": spd_both\n",
    "})"
   ]
  },
  {
   "cell_type": "code",
   "execution_count": 71,
   "metadata": {},
   "outputs": [
    {
     "data": {
      "text/html": [
       "<div>\n",
       "<style scoped>\n",
       "    .dataframe tbody tr th:only-of-type {\n",
       "        vertical-align: middle;\n",
       "    }\n",
       "\n",
       "    .dataframe tbody tr th {\n",
       "        vertical-align: top;\n",
       "    }\n",
       "\n",
       "    .dataframe thead th {\n",
       "        text-align: right;\n",
       "    }\n",
       "</style>\n",
       "<table border=\"1\" class=\"dataframe\">\n",
       "  <thead>\n",
       "    <tr style=\"text-align: right;\">\n",
       "      <th></th>\n",
       "      <th>Ratings</th>\n",
       "      <th>T+V(ACC)</th>\n",
       "      <th>T+V+HEM(ACC)</th>\n",
       "      <th>T+V(SPD)</th>\n",
       "      <th>T+V+HEM(SPD)</th>\n",
       "    </tr>\n",
       "  </thead>\n",
       "  <tbody>\n",
       "    <tr>\n",
       "      <th>0</th>\n",
       "      <td>beautiful</td>\n",
       "      <td>0.74</td>\n",
       "      <td>0.71</td>\n",
       "      <td>0.19</td>\n",
       "      <td>0.08</td>\n",
       "    </tr>\n",
       "    <tr>\n",
       "      <th>1</th>\n",
       "      <td>fascinating</td>\n",
       "      <td>0.72</td>\n",
       "      <td>0.69</td>\n",
       "      <td>0.24</td>\n",
       "      <td>0.17</td>\n",
       "    </tr>\n",
       "    <tr>\n",
       "      <th>2</th>\n",
       "      <td>informative</td>\n",
       "      <td>0.73</td>\n",
       "      <td>0.66</td>\n",
       "      <td>0.22</td>\n",
       "      <td>0.17</td>\n",
       "    </tr>\n",
       "    <tr>\n",
       "      <th>3</th>\n",
       "      <td>jaw-dropping</td>\n",
       "      <td>0.66</td>\n",
       "      <td>0.57</td>\n",
       "      <td>0.17</td>\n",
       "      <td>0.06</td>\n",
       "    </tr>\n",
       "    <tr>\n",
       "      <th>4</th>\n",
       "      <td>longwinded</td>\n",
       "      <td>0.62</td>\n",
       "      <td>0.64</td>\n",
       "      <td>0.18</td>\n",
       "      <td>0.08</td>\n",
       "    </tr>\n",
       "    <tr>\n",
       "      <th>5</th>\n",
       "      <td>obnoxious</td>\n",
       "      <td>0.63</td>\n",
       "      <td>0.63</td>\n",
       "      <td>0.03</td>\n",
       "      <td>0.01</td>\n",
       "    </tr>\n",
       "    <tr>\n",
       "      <th>6</th>\n",
       "      <td>ok</td>\n",
       "      <td>0.68</td>\n",
       "      <td>0.66</td>\n",
       "      <td>0.15</td>\n",
       "      <td>0.03</td>\n",
       "    </tr>\n",
       "    <tr>\n",
       "      <th>7</th>\n",
       "      <td>unconvincing</td>\n",
       "      <td>0.66</td>\n",
       "      <td>0.62</td>\n",
       "      <td>0.08</td>\n",
       "      <td>0.05</td>\n",
       "    </tr>\n",
       "  </tbody>\n",
       "</table>\n",
       "</div>"
      ],
      "text/plain": [
       "        Ratings  T+V(ACC)  T+V+HEM(ACC)  T+V(SPD)  T+V+HEM(SPD)\n",
       "0     beautiful      0.74          0.71      0.19          0.08\n",
       "1   fascinating      0.72          0.69      0.24          0.17\n",
       "2   informative      0.73          0.66      0.22          0.17\n",
       "3  jaw-dropping      0.66          0.57      0.17          0.06\n",
       "4    longwinded      0.62          0.64      0.18          0.08\n",
       "5     obnoxious      0.63          0.63      0.03          0.01\n",
       "6            ok      0.68          0.66      0.15          0.03\n",
       "7  unconvincing      0.66          0.62      0.08          0.05"
      ]
     },
     "execution_count": 71,
     "metadata": {},
     "output_type": "execute_result"
    }
   ],
   "source": [
    "df"
   ]
  },
  {
   "cell_type": "code",
   "execution_count": 72,
   "metadata": {},
   "outputs": [],
   "source": [
    "table=df.to_latex(index=False)"
   ]
  },
  {
   "cell_type": "code",
   "execution_count": 73,
   "metadata": {},
   "outputs": [
    {
     "data": {
      "text/plain": [
       "'\\\\begin{tabular}{lrrrr}\\n\\\\toprule\\n      Ratings &  T+V(ACC) &  T+V+HEM(ACC) &  T+V(SPD) &  T+V+HEM(SPD) \\\\\\\\\\n\\\\midrule\\n    beautiful &      0.74 &          0.71 &      0.19 &          0.08 \\\\\\\\\\n  fascinating &      0.72 &          0.69 &      0.24 &          0.17 \\\\\\\\\\n  informative &      0.73 &          0.66 &      0.22 &          0.17 \\\\\\\\\\n jaw-dropping &      0.66 &          0.57 &      0.17 &          0.06 \\\\\\\\\\n   longwinded &      0.62 &          0.64 &      0.18 &          0.08 \\\\\\\\\\n    obnoxious &      0.63 &          0.63 &      0.03 &          0.01 \\\\\\\\\\n           ok &      0.68 &          0.66 &      0.15 &          0.03 \\\\\\\\\\n unconvincing &      0.66 &          0.62 &      0.08 &          0.05 \\\\\\\\\\n\\\\bottomrule\\n\\\\end{tabular}\\n'"
      ]
     },
     "execution_count": 73,
     "metadata": {},
     "output_type": "execute_result"
    }
   ],
   "source": [
    "table"
   ]
  },
  {
   "cell_type": "code",
   "execution_count": null,
   "metadata": {},
   "outputs": [],
   "source": [
    "\\begin{tabular}{|c|c|c|c|c|}      Ratings &  T+V(ACC) &  T+V+HEM(ACC) &  T+V(SPD) &  T+V+HEM(SPD) \\\\    beautiful &      0.74 &          0.71 &      0.19 &          0.08 \\\\  fascinating &      0.72 &          0.69 &      0.24 &          0.17 \\\\  informative &      0.73 &          0.66 &      0.22 &          0.17 \\\\ jaw-dropping &      0.66 &          0.57 &      0.17 &          0.06 \\\\   longwinded &      0.62 &          0.64 &      0.18 &          0.08 \\\\    obnoxious &      0.63 &          0.63 &      0.03 &          0.01 \\\\           ok &      0.68 &          0.66 &      0.15 &          0.03 \\\\ unconvincing &      0.66 &          0.62 &      0.08 &          0.05 \\end{tabular}"
   ]
  },
  {
   "cell_type": "code",
   "execution_count": 42,
   "metadata": {},
   "outputs": [
    {
     "data": {
      "text/plain": [
       "dict_keys(['Video_ID', 'input', 'rating', 'text_diversity', 'vid_diversity'])"
      ]
     },
     "execution_count": 42,
     "metadata": {},
     "output_type": "execute_result"
    }
   ],
   "source": [
    "new_dic.keys()"
   ]
  },
  {
   "cell_type": "code",
   "execution_count": 13,
   "metadata": {},
   "outputs": [],
   "source": [
    "all_data_dic ={}\n",
    "#key_list = ['Video_ID','transcript_only','rating','text_diversity']\n",
    "all_data_dic['Video_ID'] = df['Video_ID']\n",
    "all_data_dic['input'] = np.concatenate((df['transcript'],df['a'],df['view'].reshape(-1,1)),axis=1)\n",
    "all_data_dic['rating'] = df['rating']\n",
    "all_data_dic['text_diversity'] = [] \n",
    "for id in df['Video_ID']:\n",
    "    all_data_dic['text_diversity'].append(div_dic[id])\n",
    "pickle.dump(all_data_dic,open('../Data/doc2vec/all_data_dic_200.pkl','wb'))"
   ]
  },
  {
   "cell_type": "code",
   "execution_count": 7,
   "metadata": {},
   "outputs": [
    {
     "data": {
      "image/png": "[encoded data removed]",
      "text/plain": [
       "<Figure size 432x288 with 1 Axes>"
      ]
     },
     "metadata": {
      "needs_background": "light"
     },
     "output_type": "display_data"
    }
   ],
   "source": [
    "l=list(div_dic.values())\n",
    "plt.hist(l,bins=100)\n",
    "n =len(l)\n",
    "diff_list = [abs(l[i]-l[j]) for i,j in it.combinations(range(n),2)]"
   ]
  },
  {
   "cell_type": "code",
   "execution_count": 8,
   "metadata": {},
   "outputs": [
    {
     "data": {
      "text/plain": [
       "(array([2.62669e+05, 2.55654e+05, 2.43556e+05, 2.27879e+05, 2.11578e+05,\n",
       "        1.92827e+05, 1.72523e+05, 1.55445e+05, 1.38822e+05, 1.25237e+05,\n",
       "        1.13069e+05, 1.00167e+05, 8.97000e+04, 7.99610e+04, 7.27170e+04,\n",
       "        6.62040e+04, 5.83930e+04, 5.18690e+04, 4.63720e+04, 4.12250e+04,\n",
       "        3.69880e+04, 3.22190e+04, 2.83860e+04, 2.59710e+04, 2.35340e+04,\n",
       "        2.12360e+04, 1.92790e+04, 1.73430e+04, 1.59520e+04, 1.43590e+04,\n",
       "        1.29760e+04, 1.15620e+04, 1.03870e+04, 9.24300e+03, 8.29900e+03,\n",
       "        7.49200e+03, 6.57400e+03, 5.86400e+03, 5.50800e+03, 5.32800e+03,\n",
       "        4.92400e+03, 4.53500e+03, 4.14700e+03, 3.90900e+03, 3.53000e+03,\n",
       "        2.93600e+03, 2.56600e+03, 2.28000e+03, 1.98500e+03, 1.83700e+03,\n",
       "        1.47900e+03, 1.37500e+03, 1.23900e+03, 1.14200e+03, 1.14300e+03,\n",
       "        9.99000e+02, 8.62000e+02, 7.54000e+02, 7.17000e+02, 6.49000e+02,\n",
       "        5.58000e+02, 4.19000e+02, 3.96000e+02, 3.57000e+02, 2.58000e+02,\n",
       "        2.41000e+02, 2.23000e+02, 2.01000e+02, 1.51000e+02, 1.26000e+02,\n",
       "        1.57000e+02, 1.72000e+02, 1.93000e+02, 2.22000e+02, 2.11000e+02,\n",
       "        1.96000e+02, 1.69000e+02, 1.42000e+02, 1.39000e+02, 1.05000e+02,\n",
       "        6.50000e+01, 5.90000e+01, 8.80000e+01, 9.20000e+01, 1.18000e+02,\n",
       "        1.01000e+02, 1.06000e+02, 1.27000e+02, 1.51000e+02, 1.89000e+02,\n",
       "        1.79000e+02, 1.80000e+02, 1.40000e+02, 1.21000e+02, 1.13000e+02,\n",
       "        7.40000e+01, 2.80000e+01, 1.00000e+01, 0.00000e+00, 8.00000e+00]),\n",
       " array([ 0.        ,  0.37626402,  0.75252804,  1.12879206,  1.50505608,\n",
       "         1.8813201 ,  2.25758412,  2.63384814,  3.01011216,  3.38637618,\n",
       "         3.76264019,  4.13890421,  4.51516823,  4.89143225,  5.26769627,\n",
       "         5.64396029,  6.02022431,  6.39648833,  6.77275235,  7.14901637,\n",
       "         7.52528039,  7.90154441,  8.27780843,  8.65407245,  9.03033647,\n",
       "         9.40660049,  9.78286451, 10.15912853, 10.53539255, 10.91165657,\n",
       "        11.28792058, 11.6641846 , 12.04044862, 12.41671264, 12.79297666,\n",
       "        13.16924068, 13.5455047 , 13.92176872, 14.29803274, 14.67429676,\n",
       "        15.05056078, 15.4268248 , 15.80308882, 16.17935284, 16.55561686,\n",
       "        16.93188088, 17.3081449 , 17.68440892, 18.06067294, 18.43693695,\n",
       "        18.81320097, 19.18946499, 19.56572901, 19.94199303, 20.31825705,\n",
       "        20.69452107, 21.07078509, 21.44704911, 21.82331313, 22.19957715,\n",
       "        22.57584117, 22.95210519, 23.32836921, 23.70463323, 24.08089725,\n",
       "        24.45716127, 24.83342529, 25.20968931, 25.58595332, 25.96221734,\n",
       "        26.33848136, 26.71474538, 27.0910094 , 27.46727342, 27.84353744,\n",
       "        28.21980146, 28.59606548, 28.9723295 , 29.34859352, 29.72485754,\n",
       "        30.10112156, 30.47738558, 30.8536496 , 31.22991362, 31.60617764,\n",
       "        31.98244166, 32.35870568, 32.7349697 , 33.11123371, 33.48749773,\n",
       "        33.86376175, 34.24002577, 34.61628979, 34.99255381, 35.36881783,\n",
       "        35.74508185, 36.12134587, 36.49760989, 36.87387391, 37.25013793,\n",
       "        37.62640195]),\n",
       " <a list of 100 Patch objects>)"
      ]
     },
     "execution_count": 8,
     "metadata": {},
     "output_type": "execute_result"
    },
    {
     "data": {
      "image/png": "[encoded data removed]",
      "text/plain": [
       "<Figure size 432x288 with 1 Axes>"
      ]
     },
     "metadata": {
      "needs_background": "light"
     },
     "output_type": "display_data"
    }
   ],
   "source": [
    "plt.hist(diff_list,bins=100)"
   ]
  },
  {
   "cell_type": "code",
   "execution_count": 9,
   "metadata": {},
   "outputs": [
    {
     "name": "stdout",
     "output_type": "stream",
     "text": [
      "0.02282463011880441\n"
     ]
    }
   ],
   "source": [
    "r = len([x for x in diff_list if x <= 0.1])/len(diff_list)\n",
    "print(r)"
   ]
  }
 ],
 "metadata": {
  "kernelspec": {
   "display_name": "Python 3",
   "language": "python",
   "name": "python3"
  },
  "language_info": {
   "codemirror_mode": {
    "name": "ipython",
    "version": 3
   },
   "file_extension": ".py",
   "mimetype": "text/x-python",
   "name": "python",
   "nbconvert_exporter": "python",
   "pygments_lexer": "ipython3",
   "version": "3.6.9"
  }
 },
 "nbformat": 4,
 "nbformat_minor": 2
}
